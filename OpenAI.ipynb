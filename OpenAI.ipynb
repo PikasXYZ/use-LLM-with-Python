{
  "nbformat": 4,
  "nbformat_minor": 0,
  "metadata": {
    "colab": {
      "provenance": [],
      "authorship_tag": "ABX9TyMC8bC78tuQp32oIdo2g/ko",
      "include_colab_link": true
    },
    "kernelspec": {
      "name": "python3",
      "display_name": "Python 3"
    },
    "language_info": {
      "name": "python"
    }
  },
  "cells": [
    {
      "cell_type": "markdown",
      "metadata": {
        "id": "view-in-github",
        "colab_type": "text"
      },
      "source": [
        "<a href=\"https://colab.research.google.com/github/PikasXYZ/use-LLM-with-Python/blob/main/OpenAI.ipynb\" target=\"_parent\"><img src=\"https://colab.research.google.com/assets/colab-badge.svg\" alt=\"Open In Colab\"/></a>"
      ]
    },
    {
      "cell_type": "code",
      "execution_count": 1,
      "metadata": {
        "colab": {
          "base_uri": "https://localhost:8080/"
        },
        "id": "CGWYaPGDJqaw",
        "outputId": "3b0b4577-243d-4f98-fe81-b156e6acb5b8"
      },
      "outputs": [
        {
          "output_type": "stream",
          "name": "stdout",
          "text": [
            "Collecting openai\n",
            "  Downloading openai-1.31.0-py3-none-any.whl (324 kB)\n",
            "\u001b[2K     \u001b[90m━━━━━━━━━━━━━━━━━━━━━━━━━━━━━━━━━━━━━━━━\u001b[0m \u001b[32m324.1/324.1 kB\u001b[0m \u001b[31m4.8 MB/s\u001b[0m eta \u001b[36m0:00:00\u001b[0m\n",
            "\u001b[?25hRequirement already satisfied: anyio<5,>=3.5.0 in /usr/local/lib/python3.10/dist-packages (from openai) (3.7.1)\n",
            "Requirement already satisfied: distro<2,>=1.7.0 in /usr/lib/python3/dist-packages (from openai) (1.7.0)\n",
            "Collecting httpx<1,>=0.23.0 (from openai)\n",
            "  Downloading httpx-0.27.0-py3-none-any.whl (75 kB)\n",
            "\u001b[2K     \u001b[90m━━━━━━━━━━━━━━━━━━━━━━━━━━━━━━━━━━━━━━━━\u001b[0m \u001b[32m75.6/75.6 kB\u001b[0m \u001b[31m6.1 MB/s\u001b[0m eta \u001b[36m0:00:00\u001b[0m\n",
            "\u001b[?25hRequirement already satisfied: pydantic<3,>=1.9.0 in /usr/local/lib/python3.10/dist-packages (from openai) (2.7.2)\n",
            "Requirement already satisfied: sniffio in /usr/local/lib/python3.10/dist-packages (from openai) (1.3.1)\n",
            "Requirement already satisfied: tqdm>4 in /usr/local/lib/python3.10/dist-packages (from openai) (4.66.4)\n",
            "Requirement already satisfied: typing-extensions<5,>=4.7 in /usr/local/lib/python3.10/dist-packages (from openai) (4.12.0)\n",
            "Requirement already satisfied: idna>=2.8 in /usr/local/lib/python3.10/dist-packages (from anyio<5,>=3.5.0->openai) (3.7)\n",
            "Requirement already satisfied: exceptiongroup in /usr/local/lib/python3.10/dist-packages (from anyio<5,>=3.5.0->openai) (1.2.1)\n",
            "Requirement already satisfied: certifi in /usr/local/lib/python3.10/dist-packages (from httpx<1,>=0.23.0->openai) (2024.2.2)\n",
            "Collecting httpcore==1.* (from httpx<1,>=0.23.0->openai)\n",
            "  Downloading httpcore-1.0.5-py3-none-any.whl (77 kB)\n",
            "\u001b[2K     \u001b[90m━━━━━━━━━━━━━━━━━━━━━━━━━━━━━━━━━━━━━━━━\u001b[0m \u001b[32m77.9/77.9 kB\u001b[0m \u001b[31m5.2 MB/s\u001b[0m eta \u001b[36m0:00:00\u001b[0m\n",
            "\u001b[?25hCollecting h11<0.15,>=0.13 (from httpcore==1.*->httpx<1,>=0.23.0->openai)\n",
            "  Downloading h11-0.14.0-py3-none-any.whl (58 kB)\n",
            "\u001b[2K     \u001b[90m━━━━━━━━━━━━━━━━━━━━━━━━━━━━━━━━━━━━━━━━\u001b[0m \u001b[32m58.3/58.3 kB\u001b[0m \u001b[31m5.5 MB/s\u001b[0m eta \u001b[36m0:00:00\u001b[0m\n",
            "\u001b[?25hRequirement already satisfied: annotated-types>=0.4.0 in /usr/local/lib/python3.10/dist-packages (from pydantic<3,>=1.9.0->openai) (0.7.0)\n",
            "Requirement already satisfied: pydantic-core==2.18.3 in /usr/local/lib/python3.10/dist-packages (from pydantic<3,>=1.9.0->openai) (2.18.3)\n",
            "Installing collected packages: h11, httpcore, httpx, openai\n",
            "Successfully installed h11-0.14.0 httpcore-1.0.5 httpx-0.27.0 openai-1.31.0\n"
          ]
        }
      ],
      "source": [
        "#@title install\n",
        "!pip install openai"
      ]
    },
    {
      "cell_type": "markdown",
      "source": [
        "#OpenAI"
      ],
      "metadata": {
        "id": "3lP5uCXHLev4"
      }
    },
    {
      "cell_type": "code",
      "source": [
        "#@title import\n",
        "from openai import OpenAI\n",
        "from google.colab import userdata\n",
        "import requests\n",
        "import base64\n",
        "from IPython.display import Image, display  # for displaying images"
      ],
      "metadata": {
        "id": "PFrZE5XCJyxW"
      },
      "execution_count": 21,
      "outputs": []
    },
    {
      "cell_type": "code",
      "source": [
        "#@title settings\n",
        "client = OpenAI(api_key=userdata.get(\"OPENAI_API_KEY\"))"
      ],
      "metadata": {
        "id": "NvH1Wb6uJ7Hj"
      },
      "execution_count": 14,
      "outputs": []
    },
    {
      "cell_type": "code",
      "source": [
        "#@title Generating text\n",
        "response = client.completions.create(\n",
        "                    model=\"gpt-3.5-turbo-instruct\", # not all models support this function\n",
        "                    prompt = \"My name is Pikas! How are you?\",\n",
        "                    temperature=0.7,\n",
        "                    max_tokens=512\n",
        "                    )\n",
        "print(response.choices[0].text)"
      ],
      "metadata": {
        "colab": {
          "base_uri": "https://localhost:8080/"
        },
        "id": "ayPsbkzlKJXC",
        "outputId": "00c4b51a-e5a3-43fa-be27-8604d2214a56"
      },
      "execution_count": 15,
      "outputs": [
        {
          "output_type": "stream",
          "name": "stdout",
          "text": [
            "\n",
            "\n",
            "I am an AI language model created by OpenAI. I do not have feelings or emotions, but I am functioning well. How can I assist you?\n"
          ]
        }
      ]
    },
    {
      "cell_type": "code",
      "source": [
        "#@title Chatting w/ history\n",
        "response = client.chat.completions.create(\n",
        "                      model=\"gpt-3.5-turbo\", # see all models in https://platform.openai.com/docs/models\n",
        "                      messages=[\n",
        "                      {\"role\": \"system\", \"content\": \"You are Pikas' helpful assistant!\"},\n",
        "                      {\"role\": \"user\", \"content\": \"Who's better than Pikas?\"}\n",
        "                      ]\n",
        "                      # see more parameter in https://platform.openai.com/docs/api-reference/chat/create\n",
        "                      )\n",
        "print(response.choices[0].message.content)"
      ],
      "metadata": {
        "colab": {
          "base_uri": "https://localhost:8080/"
        },
        "id": "tPcNQ9gBKcla",
        "outputId": "a0729fa9-35f0-4638-adb4-7ebd6b761d65"
      },
      "execution_count": 16,
      "outputs": [
        {
          "output_type": "stream",
          "name": "stdout",
          "text": [
            "Pikas is a unique and wonderful creature within their habitat. Each animal plays a vital role in their ecosystem, so it's important to appreciate and protect them all. If you have any questions about Pikas or any other animals, feel free to ask!\n"
          ]
        }
      ]
    },
    {
      "cell_type": "code",
      "source": [
        "#@title Chatting w/ history & image url\n",
        "response = client.chat.completions.create(\n",
        "  model=\"gpt-4o\", # this model is supposed to include vision capabilities\n",
        "  messages=[\n",
        "    {\"role\": \"system\", \"content\": \"You are Pikas' helpful assistant!\"},\n",
        "    {\n",
        "      \"role\": \"user\",\n",
        "      \"content\": [\n",
        "        {\"type\": \"text\", \"text\": \"What’s in these image?\"},\n",
        "        {\n",
        "          \"type\": \"image_url\",\n",
        "          \"image_url\": {\n",
        "                  \"url\": \"https://avatars.githubusercontent.com/u/120371636?v=4\",\n",
        "                  \"detail\": \"high\" # low / high / auto (default), how the model processes this image and generates its textual understanding\n",
        "                  }\n",
        "        },\n",
        "        { # Multiple image inputs\n",
        "          \"type\": \"image_url\",\n",
        "          \"image_url\": {\n",
        "                  \"url\": \"https://upload.wikimedia.org/wikipedia/en/thumb/5/5f/Original_Doge_meme.jpg/220px-Original_Doge_meme.jpg\"\n",
        "                  }\n",
        "        }\n",
        "      ]\n",
        "    }\n",
        "  ],\n",
        "  max_tokens=300,\n",
        ")\n",
        "\n",
        "print(response.choices[0].message.content)\n",
        "display(Image(url=\"https://avatars.githubusercontent.com/u/120371636?v=4\"))\n",
        "display(Image(url=\"https://upload.wikimedia.org/wikipedia/en/thumb/5/5f/Original_Doge_meme.jpg/220px-Original_Doge_meme.jpg\"))"
      ],
      "metadata": {
        "colab": {
          "base_uri": "https://localhost:8080/",
          "height": 720
        },
        "id": "NdCuAhnMPiv2",
        "outputId": "1524690a-d307-4db4-921f-65e490551240"
      },
      "execution_count": 24,
      "outputs": [
        {
          "output_type": "stream",
          "name": "stdout",
          "text": [
            "The images show two different dogs:\n",
            "\n",
            "1. The first image features a curly-haired dog, likely a poodle.\n",
            "2. The second image features a Shiba Inu, a breed known for its expressive face and compact size.\n"
          ]
        },
        {
          "output_type": "display_data",
          "data": {
            "text/html": [
              "<img src=\"https://avatars.githubusercontent.com/u/120371636?v=4\"/>"
            ],
            "text/plain": [
              "<IPython.core.display.Image object>"
            ]
          },
          "metadata": {}
        },
        {
          "output_type": "display_data",
          "data": {
            "text/html": [
              "<img src=\"https://upload.wikimedia.org/wikipedia/en/thumb/5/5f/Original_Doge_meme.jpg/220px-Original_Doge_meme.jpg\"/>"
            ],
            "text/plain": [
              "<IPython.core.display.Image object>"
            ]
          },
          "metadata": {}
        }
      ]
    },
    {
      "cell_type": "code",
      "source": [
        "#@title Chatting w/ history & image file\n",
        "!wget -O pikas_head.jpg https://avatars.githubusercontent.com/u/120371636?v=4 -q\n",
        "\n",
        "def encode_image(image_path): # encoding function\n",
        "  with open(image_path, \"rb\") as image_file:\n",
        "    return base64.b64encode(image_file.read()).decode('utf-8')\n",
        "\n",
        "response = client.chat.completions.create(\n",
        "  model=\"gpt-4o\", # this model is supposed to include vision capabilities\n",
        "  messages=[\n",
        "    {\"role\": \"system\", \"content\": \"You are Pikas' helpful assistant!\"},\n",
        "    {\n",
        "      \"role\": \"user\",\n",
        "      \"content\": [\n",
        "        {\"type\": \"text\", \"text\": \"What’s in these image?\"},\n",
        "        {\"type\": \"image_url\", \"image_url\": {\"url\": f\"data:image/jpeg;base64,{encode_image('pikas_head.jpg')}\"}}\n",
        "      ]\n",
        "    }\n",
        "  ],\n",
        "  max_tokens=300,\n",
        ")\n",
        "\n",
        "print(response.choices[0].message.content)\n",
        "display(Image(\"pikas_head.jpg\"))"
      ],
      "metadata": {
        "colab": {
          "base_uri": "https://localhost:8080/",
          "height": 514
        },
        "id": "4DfvBjCCTiHr",
        "outputId": "6e341a3b-45f8-4622-f9c7-3dbe46cef575"
      },
      "execution_count": 28,
      "outputs": [
        {
          "output_type": "stream",
          "name": "stdout",
          "text": [
            "The image shows a cute, curly-haired dog, likely a poodle or poodle mix, with a light tan or apricot coat. The dog appears to be happy, with its mouth slightly open, possibly panting or smiling. In the background, there is a metallic surface with a diamond plate pattern and some lights.\n"
          ]
        },
        {
          "output_type": "display_data",
          "data": {
            "image/jpeg": "[encoded data removed]",
            "text/plain": [
              "<IPython.core.display.Image object>"
            ]
          },
          "metadata": {}
        }
      ]
    },
    {
      "cell_type": "code",
      "source": [
        "#@title Chatting w/ history & image file (using requests)\n",
        "\n",
        "headers = {\n",
        "  \"Content-Type\": \"application/json\",\n",
        "  \"Authorization\": f\"Bearer {userdata.get('OPENAI_API_KEY')}\"\n",
        "}\n",
        "\n",
        "payload = {\n",
        "  \"model\": \"gpt-4o\",\n",
        "  \"messages\": [\n",
        "    {\"role\": \"system\", \"content\": \"You are Pikas' helpful assistant!\"},\n",
        "    {\n",
        "      \"role\": \"user\",\n",
        "      \"content\": [\n",
        "        {\n",
        "          \"type\": \"text\",\n",
        "          \"text\": \"What’s in this image?\"\n",
        "        },\n",
        "        {\n",
        "          \"type\": \"image_url\",\n",
        "          \"image_url\": {\n",
        "            \"url\": f\"data:image/jpeg;base64,{encode_image('pikas_head.jpg')}\"\n",
        "          }\n",
        "        }\n",
        "      ]\n",
        "    }\n",
        "  ],\n",
        "  \"max_tokens\": 300\n",
        "}\n",
        "\n",
        "response = requests.post(\"https://api.openai.com/v1/chat/completions\", headers=headers, json=payload)\n",
        "print(response.json()[\"choices\"][0][\"message\"][\"content\"])"
      ],
      "metadata": {
        "colab": {
          "base_uri": "https://localhost:8080/"
        },
        "id": "GtjuxpumVTFi",
        "outputId": "be6ce904-1883-46dc-bb4e-3a01f3bcac94"
      },
      "execution_count": 31,
      "outputs": [
        {
          "output_type": "stream",
          "name": "stdout",
          "text": [
            "This image shows a small, curly-haired dog with light-colored fur. The dog appears to be happy with its mouth slightly open, possibly panting or smiling. The background features a diamond plate pattern and some lights, suggesting the dog might be in front of a vehicle or machinery.\n"
          ]
        }
      ]
    },
    {
      "cell_type": "markdown",
      "source": [
        "#switch between OpenAI and Azure OpenAI endpoints"
      ],
      "metadata": {
        "id": "8_rTxM30LRv6"
      }
    },
    {
      "cell_type": "code",
      "source": [
        "#@title import\n",
        "from openai import AzureOpenAI"
      ],
      "metadata": {
        "id": "Zpc570OwLhBO"
      },
      "execution_count": null,
      "outputs": []
    },
    {
      "cell_type": "code",
      "source": [
        "#@title settings\n",
        "client = AzureOpenAI(\n",
        "    api_key=userdata.get(\"AZURE_OPENAI_API_KEY\"),\n",
        "    api_version=\"2023-12-01-preview\",\n",
        "    azure_endpoint=userdata.get(\"AZURE_OPENAI_ENDPOINT\")\n",
        ")\n",
        "deployment_name = \"<your deployment name>\""
      ],
      "metadata": {
        "id": "0QT5dq7kLPVU"
      },
      "execution_count": null,
      "outputs": []
    },
    {
      "cell_type": "code",
      "source": [
        "#@title Generating text\n",
        "completion = client.completions.create(\n",
        "    model=deployment_name,\n",
        "    prompt=\"My name is Pikas!How are you?\"\n",
        ")\n",
        "print(response.choices[0].text)"
      ],
      "metadata": {
        "id": "NTfceWXjN5Pl"
      },
      "execution_count": null,
      "outputs": []
    },
    {
      "cell_type": "code",
      "source": [
        "#@title Chatting w/ history\n",
        "chat_completion = client.chat.completions.create(\n",
        "    model=deployment_name,\n",
        "    messages=[\n",
        "        {\"role\": \"system\", \"content\": \"You are Pikas' helpful assistant!\"},\n",
        "        {\"role\": \"user\", \"content\": \"Who's better than Pikas?\"}\n",
        "        ]\n",
        ")\n",
        "print(chat_completion.choices[0].message.content)"
      ],
      "metadata": {
        "colab": {
          "base_uri": "https://localhost:8080/"
        },
        "id": "CCDfSQ4IMamb",
        "outputId": "f891e2a7-470f-4ac4-f67a-d64a6d3d4bcc"
      },
      "execution_count": null,
      "outputs": [
        {
          "output_type": "stream",
          "name": "stdout",
          "text": [
            "It's all a matter of perspective! Pikas has their own unique strengths and qualities, and so does everyone else. The important thing is to appreciate the unique talents and abilities that each person or entity brings to the table. How can I assist you today with Pikas or any other question you might have?\n"
          ]
        }
      ]
    }
  ]
}