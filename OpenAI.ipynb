{
  "nbformat": 4,
  "nbformat_minor": 0,
  "metadata": {
    "colab": {
      "provenance": [],
      "authorship_tag": "ABX9TyN330iqX2KTGn8ss53ddD1d",
      "include_colab_link": true
    },
    "kernelspec": {
      "name": "python3",
      "display_name": "Python 3"
    },
    "language_info": {
      "name": "python"
    }
  },
  "cells": [
    {
      "cell_type": "markdown",
      "metadata": {
        "id": "view-in-github",
        "colab_type": "text"
      },
      "source": [
        "<a href=\"https://colab.research.google.com/github/PikasXYZ/use-LLM-with-Python/blob/main/OpenAI.ipynb\" target=\"_parent\"><img src=\"https://colab.research.google.com/assets/colab-badge.svg\" alt=\"Open In Colab\"/></a>"
      ]
    },
    {
      "cell_type": "code",
      "execution_count": 1,
      "metadata": {
        "colab": {
          "base_uri": "https://localhost:8080/"
        },
        "id": "CGWYaPGDJqaw",
        "outputId": "2e153814-4909-47d4-e26d-45a1ab8c8f17"
      },
      "outputs": [
        {
          "output_type": "stream",
          "name": "stdout",
          "text": [
            "Collecting openai\n",
            "  Downloading openai-1.30.5-py3-none-any.whl (320 kB)\n",
            "\u001b[?25l     \u001b[90m━━━━━━━━━━━━━━━━━━━━━━━━━━━━━━━━━━━━━━━━\u001b[0m \u001b[32m0.0/320.7 kB\u001b[0m \u001b[31m?\u001b[0m eta \u001b[36m-:--:--\u001b[0m\r\u001b[2K     \u001b[91m━━━━━━━━━━━━━━━━━━━━━━━━\u001b[0m\u001b[90m╺\u001b[0m\u001b[90m━━━━━━━━━━━━━━━\u001b[0m \u001b[32m194.6/320.7 kB\u001b[0m \u001b[31m5.5 MB/s\u001b[0m eta \u001b[36m0:00:01\u001b[0m\r\u001b[2K     \u001b[90m━━━━━━━━━━━━━━━━━━━━━━━━━━━━━━━━━━━━━━━━\u001b[0m \u001b[32m320.7/320.7 kB\u001b[0m \u001b[31m5.2 MB/s\u001b[0m eta \u001b[36m0:00:00\u001b[0m\n",
            "\u001b[?25hRequirement already satisfied: anyio<5,>=3.5.0 in /usr/local/lib/python3.10/dist-packages (from openai) (3.7.1)\n",
            "Requirement already satisfied: distro<2,>=1.7.0 in /usr/lib/python3/dist-packages (from openai) (1.7.0)\n",
            "Collecting httpx<1,>=0.23.0 (from openai)\n",
            "  Downloading httpx-0.27.0-py3-none-any.whl (75 kB)\n",
            "\u001b[2K     \u001b[90m━━━━━━━━━━━━━━━━━━━━━━━━━━━━━━━━━━━━━━━━\u001b[0m \u001b[32m75.6/75.6 kB\u001b[0m \u001b[31m4.7 MB/s\u001b[0m eta \u001b[36m0:00:00\u001b[0m\n",
            "\u001b[?25hRequirement already satisfied: pydantic<3,>=1.9.0 in /usr/local/lib/python3.10/dist-packages (from openai) (2.7.1)\n",
            "Requirement already satisfied: sniffio in /usr/local/lib/python3.10/dist-packages (from openai) (1.3.1)\n",
            "Requirement already satisfied: tqdm>4 in /usr/local/lib/python3.10/dist-packages (from openai) (4.66.4)\n",
            "Requirement already satisfied: typing-extensions<5,>=4.7 in /usr/local/lib/python3.10/dist-packages (from openai) (4.11.0)\n",
            "Requirement already satisfied: idna>=2.8 in /usr/local/lib/python3.10/dist-packages (from anyio<5,>=3.5.0->openai) (3.7)\n",
            "Requirement already satisfied: exceptiongroup in /usr/local/lib/python3.10/dist-packages (from anyio<5,>=3.5.0->openai) (1.2.1)\n",
            "Requirement already satisfied: certifi in /usr/local/lib/python3.10/dist-packages (from httpx<1,>=0.23.0->openai) (2024.2.2)\n",
            "Collecting httpcore==1.* (from httpx<1,>=0.23.0->openai)\n",
            "  Downloading httpcore-1.0.5-py3-none-any.whl (77 kB)\n",
            "\u001b[2K     \u001b[90m━━━━━━━━━━━━━━━━━━━━━━━━━━━━━━━━━━━━━━━━\u001b[0m \u001b[32m77.9/77.9 kB\u001b[0m \u001b[31m5.1 MB/s\u001b[0m eta \u001b[36m0:00:00\u001b[0m\n",
            "\u001b[?25hCollecting h11<0.15,>=0.13 (from httpcore==1.*->httpx<1,>=0.23.0->openai)\n",
            "  Downloading h11-0.14.0-py3-none-any.whl (58 kB)\n",
            "\u001b[2K     \u001b[90m━━━━━━━━━━━━━━━━━━━━━━━━━━━━━━━━━━━━━━━━\u001b[0m \u001b[32m58.3/58.3 kB\u001b[0m \u001b[31m4.5 MB/s\u001b[0m eta \u001b[36m0:00:00\u001b[0m\n",
            "\u001b[?25hRequirement already satisfied: annotated-types>=0.4.0 in /usr/local/lib/python3.10/dist-packages (from pydantic<3,>=1.9.0->openai) (0.7.0)\n",
            "Requirement already satisfied: pydantic-core==2.18.2 in /usr/local/lib/python3.10/dist-packages (from pydantic<3,>=1.9.0->openai) (2.18.2)\n",
            "Installing collected packages: h11, httpcore, httpx, openai\n",
            "Successfully installed h11-0.14.0 httpcore-1.0.5 httpx-0.27.0 openai-1.30.5\n"
          ]
        }
      ],
      "source": [
        "#@title install\n",
        "!pip install openai"
      ]
    },
    {
      "cell_type": "markdown",
      "source": [
        "#OpenAI"
      ],
      "metadata": {
        "id": "3lP5uCXHLev4"
      }
    },
    {
      "cell_type": "code",
      "source": [
        "#@title import\n",
        "from openai import OpenAI\n",
        "from google.colab import userdata"
      ],
      "metadata": {
        "id": "PFrZE5XCJyxW"
      },
      "execution_count": 3,
      "outputs": []
    },
    {
      "cell_type": "code",
      "source": [
        "#@title settings\n",
        "client = OpenAI(api_key=userdata.get(\"OPENAI_API_KEY\"))"
      ],
      "metadata": {
        "id": "NvH1Wb6uJ7Hj"
      },
      "execution_count": 5,
      "outputs": []
    },
    {
      "cell_type": "code",
      "source": [
        "#@title Generating text\n",
        "response = client.completions.create(\n",
        "                    model=\"gpt-3.5-turbo-instruct\", # not all models support this function\n",
        "                    prompt = \"My name is Pikas!How are you?\",\n",
        "                    temperature=0.7,\n",
        "                    max_tokens=512\n",
        "                    )\n",
        "print(response.choices[0].text)"
      ],
      "metadata": {
        "colab": {
          "base_uri": "https://localhost:8080/"
        },
        "id": "ayPsbkzlKJXC",
        "outputId": "68f62e89-cc28-4f5e-eff4-b2447127551f"
      },
      "execution_count": 7,
      "outputs": [
        {
          "output_type": "stream",
          "name": "stdout",
          "text": [
            "\n",
            "\n",
            "I am an AI language model created by OpenAI. I don't have feelings, but I am functioning well. Thank you for asking! How can I assist you today?\n"
          ]
        }
      ]
    },
    {
      "cell_type": "code",
      "source": [
        "#@title Chatting w/ history\n",
        "response = client.chat.completions.create(\n",
        "                      model=\"gpt-3.5-turbo\", # see all models in https://platform.openai.com/docs/models\n",
        "                      messages=[\n",
        "                      {\"role\": \"system\", \"content\": \"You are Pikas' helpful assistant!\"},\n",
        "                      {\"role\": \"user\", \"content\": \"Who's better than Pikas?\"}\n",
        "                      ]\n",
        "                      # see more parameter in https://platform.openai.com/docs/api-reference/chat/create\n",
        "                      )\n",
        "print(response.choices[0].message.content)"
      ],
      "metadata": {
        "colab": {
          "base_uri": "https://localhost:8080/"
        },
        "id": "tPcNQ9gBKcla",
        "outputId": "9574b066-5642-4e43-ac71-7f7aef7b555d"
      },
      "execution_count": 9,
      "outputs": [
        {
          "output_type": "stream",
          "name": "stdout",
          "text": [
            "Pikas is a wonderful and capable creature known for their cute appearance and unique behaviors. It's not about being better or worse than another being. Each living creature has its own strengths and attributes that make them special and valuable in their own way. It's important to appreciate the uniqueness of all beings in the natural world.\n"
          ]
        }
      ]
    },
    {
      "cell_type": "markdown",
      "source": [
        "#switch between OpenAI and Azure OpenAI endpoints"
      ],
      "metadata": {
        "id": "8_rTxM30LRv6"
      }
    },
    {
      "cell_type": "code",
      "source": [
        "#@title import\n",
        "from openai import AzureOpenAI"
      ],
      "metadata": {
        "id": "Zpc570OwLhBO"
      },
      "execution_count": 10,
      "outputs": []
    },
    {
      "cell_type": "code",
      "source": [
        "#@title settings\n",
        "client = AzureOpenAI(\n",
        "    api_key=userdata.get(\"AZURE_OPENAI_API_KEY\"),\n",
        "    api_version=\"2023-12-01-preview\",\n",
        "    azure_endpoint=userdata.get(\"AZURE_OPENAI_ENDPOINT\")\n",
        ")\n",
        "deployment_name = \"<your deployment name>\""
      ],
      "metadata": {
        "id": "0QT5dq7kLPVU"
      },
      "execution_count": 15,
      "outputs": []
    },
    {
      "cell_type": "code",
      "source": [
        "#@title Generating text\n",
        "completion = client.completions.create(\n",
        "    model=deployment_name,\n",
        "    prompt=\"My name is Pikas!How are you?\"\n",
        ")\n",
        "print(response.choices[0].text)"
      ],
      "metadata": {
        "id": "NTfceWXjN5Pl"
      },
      "execution_count": 20,
      "outputs": []
    },
    {
      "cell_type": "code",
      "source": [
        "#@title Chatting w/ history\n",
        "chat_completion = client.chat.completions.create(\n",
        "    model=deployment_name,\n",
        "    messages=[\n",
        "        {\"role\": \"system\", \"content\": \"You are Pikas' helpful assistant!\"},\n",
        "        {\"role\": \"user\", \"content\": \"Who's better than Pikas?\"}\n",
        "        ]\n",
        ")\n",
        "print(chat_completion.choices[0].message.content)"
      ],
      "metadata": {
        "colab": {
          "base_uri": "https://localhost:8080/"
        },
        "id": "CCDfSQ4IMamb",
        "outputId": "f891e2a7-470f-4ac4-f67a-d64a6d3d4bcc"
      },
      "execution_count": 16,
      "outputs": [
        {
          "output_type": "stream",
          "name": "stdout",
          "text": [
            "It's all a matter of perspective! Pikas has their own unique strengths and qualities, and so does everyone else. The important thing is to appreciate the unique talents and abilities that each person or entity brings to the table. How can I assist you today with Pikas or any other question you might have?\n"
          ]
        }
      ]
    }
  ]
}